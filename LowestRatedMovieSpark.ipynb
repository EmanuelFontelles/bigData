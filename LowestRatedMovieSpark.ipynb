{
 "cells": [
  {
   "cell_type": "code",
   "execution_count": 1,
   "metadata": {},
   "outputs": [],
   "source": [
    "import pyspark\n",
    "from pyspark import SparkConf, SparkContext"
   ]
  },
  {
   "cell_type": "code",
   "execution_count": 2,
   "metadata": {},
   "outputs": [],
   "source": [
    "# This function just creates a Python \"dictionary\" we can later\n",
    "# use to convert movie ID's to movie names while printing out\n",
    "# the final results.\n",
    "def loadMovieNames():\n",
    "    movieNames = {}\n",
    "    with open(\"ml-100k/u.item\",  encoding='ISO-8859-1') as f:\n",
    "        for line in f:\n",
    "            fields = line.split('|')\n",
    "            movieNames[int(fields[0])] = fields[1]\n",
    "    return movieNames\n",
    " \n",
    "# Take each line of u.data and convert it to (movieID, (rating, 1.0))\n",
    "# This way we can then add up all the ratings for each movie, and\n",
    "# the total number of ratings for each movie (which lets us compute the average)\n",
    "def parseInput(line):\n",
    "    fields = line.split()\n",
    "    return (int(fields[1]), (float(fields[2]), 1.0))"
   ]
  },
  {
   "cell_type": "code",
   "execution_count": 3,
   "metadata": {},
   "outputs": [
    {
     "name": "stdout",
     "output_type": "stream",
     "text": [
      "Amityville: Dollhouse (1996) 1.0\n",
      "Somebody to Love (1994) 1.0\n",
      "Every Other Weekend (1990) 1.0\n",
      "Homage (1995) 1.0\n",
      "3 Ninjas: High Noon At Mega Mountain (1998) 1.0\n",
      "Bird of Prey (1996) 1.0\n",
      "Power 98 (1995) 1.0\n",
      "Beyond Bedlam (1993) 1.0\n",
      "Falling in Love Again (1980) 1.0\n",
      "T-Men (1947) 1.0\n"
     ]
    }
   ],
   "source": [
    "if __name__ == \"__main__\":\n",
    "    # The main script - create our SparkContext\n",
    "    conf = SparkConf().setAppName(\"WorstMovies\")\n",
    "    sc = SparkContext(conf = conf)\n",
    " \n",
    "    # Load up our movie ID -> movie name lookup table\n",
    "    movieNames = loadMovieNames()\n",
    " \n",
    "    # Load up the raw u.data file\n",
    "    lines = sc.textFile(\"ml-100k/u.data\")\n",
    " \n",
    "    # Convert to (movieID, (rating, 1.0))\n",
    "    movieRatings = lines.map(parseInput)\n",
    " \n",
    "    # Reduce to (movieID, (sumOfRatings, totalRatings))\n",
    "    ratingTotalsAndCount = movieRatings.reduceByKey(lambda movie1, movie2: ( movie1[0] + movie2[0], movie1[1] + movie2[1] ) )\n",
    " \n",
    "    # Map to (rating, averageRating)\n",
    "    averageRatings = ratingTotalsAndCount.mapValues(lambda totalAndCount : totalAndCount[0] / totalAndCount[1])\n",
    " \n",
    "    # Sort by average rating\n",
    "    sortedMovies = averageRatings.sortBy(lambda x: x[1])\n",
    " \n",
    "    # Take the top 10 results\n",
    "    results = sortedMovies.take(10)\n",
    " \n",
    "    # Print them out:\n",
    "    for result in results:\n",
    "        print(movieNames[result[0]], result[1])\n",
    "sc.stop()"
   ]
  }
 ],
 "metadata": {
  "kernelspec": {
   "display_name": "pySpark (Spark 2.3.1)",
   "language": "python",
   "name": ".pyspark"
  },
  "language_info": {
   "codemirror_mode": {
    "name": "ipython",
    "version": 3
   },
   "file_extension": ".py",
   "mimetype": "text/x-python",
   "name": "python",
   "nbconvert_exporter": "python",
   "pygments_lexer": "ipython3",
   "version": "3.7.1"
  }
 },
 "nbformat": 4,
 "nbformat_minor": 2
}
